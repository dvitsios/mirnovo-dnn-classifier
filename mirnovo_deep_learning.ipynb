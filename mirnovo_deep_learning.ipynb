{
 "cells": [
  {
   "cell_type": "code",
   "execution_count": 34,
   "metadata": {
    "collapsed": true
   },
   "outputs": [],
   "source": [
    "import numpy as np\n",
    "import pandas as pd\n",
    "import keras\n",
    "from keras.layers import Dense\n",
    "from keras.models import Sequential\n",
    "from keras.utils import to_categorical\n",
    "from keras.callbacks import EarlyStopping\n",
    "\n",
    "df = pd.read_csv('hsa_all_datapoints.txt', sep='\\t')\n",
    "#df.iloc[:,20:33]"
   ]
  },
  {
   "cell_type": "code",
   "execution_count": 35,
   "metadata": {},
   "outputs": [
    {
     "data": {
      "text/html": [
       "<div>\n",
       "<style>\n",
       "    .dataframe thead tr:only-child th {\n",
       "        text-align: right;\n",
       "    }\n",
       "\n",
       "    .dataframe thead th {\n",
       "        text-align: left;\n",
       "    }\n",
       "\n",
       "    .dataframe tbody tr th {\n",
       "        vertical-align: top;\n",
       "    }\n",
       "</style>\n",
       "<table border=\"1\" class=\"dataframe\">\n",
       "  <thead>\n",
       "    <tr style=\"text-align: right;\">\n",
       "      <th></th>\n",
       "      <th>cluster</th>\n",
       "      <th>avg_seq_len</th>\n",
       "      <th>MainBody_length</th>\n",
       "      <th>avg_GC_cont</th>\n",
       "      <th>avg_ATcont_after3p</th>\n",
       "      <th>sum_all_reads</th>\n",
       "      <th>num_gap_bars</th>\n",
       "      <th>scale_rate_5p</th>\n",
       "      <th>num_mismatches_8mer</th>\n",
       "      <th>num_mism_in_MB</th>\n",
       "      <th>...</th>\n",
       "      <th>hits_on_mature_miR</th>\n",
       "      <th>bracket-mirna-fraction</th>\n",
       "      <th>hairpin-size-estimate</th>\n",
       "      <th>loop-mirna-distance-estimate</th>\n",
       "      <th>loop-size-estimate</th>\n",
       "      <th>loops-in-hairpin</th>\n",
       "      <th>minimum-free-energy</th>\n",
       "      <th>mirna-bracket-discrepancy</th>\n",
       "      <th>mirna-bracket-majority</th>\n",
       "      <th>mirna-unmatched</th>\n",
       "    </tr>\n",
       "  </thead>\n",
       "  <tbody>\n",
       "    <tr>\n",
       "      <th>0</th>\n",
       "      <td>0</td>\n",
       "      <td>23.133180</td>\n",
       "      <td>21</td>\n",
       "      <td>0.523485</td>\n",
       "      <td>0.662613</td>\n",
       "      <td>3041</td>\n",
       "      <td>0</td>\n",
       "      <td>0</td>\n",
       "      <td>0</td>\n",
       "      <td>0</td>\n",
       "      <td>...</td>\n",
       "      <td>YES</td>\n",
       "      <td>0.583333</td>\n",
       "      <td>56.0</td>\n",
       "      <td>1.0</td>\n",
       "      <td>12.0</td>\n",
       "      <td>1.0</td>\n",
       "      <td>-20.5</td>\n",
       "      <td>1.0</td>\n",
       "      <td>14.0</td>\n",
       "      <td>10.0</td>\n",
       "    </tr>\n",
       "    <tr>\n",
       "      <th>1</th>\n",
       "      <td>1</td>\n",
       "      <td>27.600000</td>\n",
       "      <td>28</td>\n",
       "      <td>0.434689</td>\n",
       "      <td>0.044447</td>\n",
       "      <td>15</td>\n",
       "      <td>0</td>\n",
       "      <td>0</td>\n",
       "      <td>0</td>\n",
       "      <td>0</td>\n",
       "      <td>...</td>\n",
       "      <td>NO</td>\n",
       "      <td>0.357143</td>\n",
       "      <td>52.0</td>\n",
       "      <td>0.0</td>\n",
       "      <td>4.0</td>\n",
       "      <td>1.0</td>\n",
       "      <td>-10.4</td>\n",
       "      <td>1.0</td>\n",
       "      <td>10.0</td>\n",
       "      <td>18.0</td>\n",
       "    </tr>\n",
       "    <tr>\n",
       "      <th>2</th>\n",
       "      <td>2</td>\n",
       "      <td>21.647289</td>\n",
       "      <td>21</td>\n",
       "      <td>0.359256</td>\n",
       "      <td>0.094773</td>\n",
       "      <td>2047</td>\n",
       "      <td>2</td>\n",
       "      <td>2</td>\n",
       "      <td>0</td>\n",
       "      <td>0</td>\n",
       "      <td>...</td>\n",
       "      <td>YES</td>\n",
       "      <td>0.952381</td>\n",
       "      <td>58.0</td>\n",
       "      <td>2.0</td>\n",
       "      <td>12.0</td>\n",
       "      <td>1.0</td>\n",
       "      <td>-30.3</td>\n",
       "      <td>1.0</td>\n",
       "      <td>20.0</td>\n",
       "      <td>1.0</td>\n",
       "    </tr>\n",
       "    <tr>\n",
       "      <th>3</th>\n",
       "      <td>3</td>\n",
       "      <td>25.458333</td>\n",
       "      <td>21</td>\n",
       "      <td>0.652219</td>\n",
       "      <td>0.250000</td>\n",
       "      <td>48</td>\n",
       "      <td>6</td>\n",
       "      <td>6</td>\n",
       "      <td>0</td>\n",
       "      <td>0</td>\n",
       "      <td>...</td>\n",
       "      <td>NO</td>\n",
       "      <td>0.518519</td>\n",
       "      <td>71.0</td>\n",
       "      <td>4.0</td>\n",
       "      <td>5.0</td>\n",
       "      <td>2.0</td>\n",
       "      <td>-20.6</td>\n",
       "      <td>1.0</td>\n",
       "      <td>14.0</td>\n",
       "      <td>13.0</td>\n",
       "    </tr>\n",
       "    <tr>\n",
       "      <th>4</th>\n",
       "      <td>4</td>\n",
       "      <td>22.420795</td>\n",
       "      <td>26</td>\n",
       "      <td>0.392090</td>\n",
       "      <td>0.064233</td>\n",
       "      <td>3472</td>\n",
       "      <td>1</td>\n",
       "      <td>1</td>\n",
       "      <td>0</td>\n",
       "      <td>2</td>\n",
       "      <td>...</td>\n",
       "      <td>YES</td>\n",
       "      <td>0.772727</td>\n",
       "      <td>72.0</td>\n",
       "      <td>14.0</td>\n",
       "      <td>4.0</td>\n",
       "      <td>1.0</td>\n",
       "      <td>-28.6</td>\n",
       "      <td>1.0</td>\n",
       "      <td>17.0</td>\n",
       "      <td>5.0</td>\n",
       "    </tr>\n",
       "  </tbody>\n",
       "</table>\n",
       "<p>5 rows × 35 columns</p>\n",
       "</div>"
      ],
      "text/plain": [
       "   cluster  avg_seq_len  MainBody_length  avg_GC_cont  avg_ATcont_after3p  \\\n",
       "0        0    23.133180               21     0.523485            0.662613   \n",
       "1        1    27.600000               28     0.434689            0.044447   \n",
       "2        2    21.647289               21     0.359256            0.094773   \n",
       "3        3    25.458333               21     0.652219            0.250000   \n",
       "4        4    22.420795               26     0.392090            0.064233   \n",
       "\n",
       "   sum_all_reads  num_gap_bars  scale_rate_5p  num_mismatches_8mer  \\\n",
       "0           3041             0              0                    0   \n",
       "1             15             0              0                    0   \n",
       "2           2047             2              2                    0   \n",
       "3             48             6              6                    0   \n",
       "4           3472             1              1                    0   \n",
       "\n",
       "   num_mism_in_MB       ...         hits_on_mature_miR  \\\n",
       "0               0       ...                        YES   \n",
       "1               0       ...                         NO   \n",
       "2               0       ...                        YES   \n",
       "3               0       ...                         NO   \n",
       "4               2       ...                        YES   \n",
       "\n",
       "   bracket-mirna-fraction  hairpin-size-estimate  \\\n",
       "0                0.583333                   56.0   \n",
       "1                0.357143                   52.0   \n",
       "2                0.952381                   58.0   \n",
       "3                0.518519                   71.0   \n",
       "4                0.772727                   72.0   \n",
       "\n",
       "   loop-mirna-distance-estimate  loop-size-estimate  loops-in-hairpin  \\\n",
       "0                           1.0                12.0               1.0   \n",
       "1                           0.0                 4.0               1.0   \n",
       "2                           2.0                12.0               1.0   \n",
       "3                           4.0                 5.0               2.0   \n",
       "4                          14.0                 4.0               1.0   \n",
       "\n",
       "   minimum-free-energy  mirna-bracket-discrepancy  mirna-bracket-majority  \\\n",
       "0                -20.5                        1.0                    14.0   \n",
       "1                -10.4                        1.0                    10.0   \n",
       "2                -30.3                        1.0                    20.0   \n",
       "3                -20.6                        1.0                    14.0   \n",
       "4                -28.6                        1.0                    17.0   \n",
       "\n",
       "   mirna-unmatched  \n",
       "0             10.0  \n",
       "1             18.0  \n",
       "2              1.0  \n",
       "3             13.0  \n",
       "4              5.0  \n",
       "\n",
       "[5 rows x 35 columns]"
      ]
     },
     "execution_count": 35,
     "metadata": {},
     "output_type": "execute_result"
    }
   ],
   "source": [
    "df.head()"
   ]
  },
  {
   "cell_type": "code",
   "execution_count": null,
   "metadata": {
    "collapsed": true
   },
   "outputs": [],
   "source": []
  },
  {
   "cell_type": "code",
   "execution_count": 36,
   "metadata": {
    "collapsed": true
   },
   "outputs": [],
   "source": [
    "y = np.array(df.hits_on_mature_miR)\n",
    "y[y == 'NO'] = 0\n",
    "y[y == 'YES'] = 1\n",
    "y = to_categorical(y)"
   ]
  },
  {
   "cell_type": "code",
   "execution_count": 37,
   "metadata": {
    "collapsed": true
   },
   "outputs": [],
   "source": [
    "del df['hits_on_mature_miR']"
   ]
  },
  {
   "cell_type": "code",
   "execution_count": 38,
   "metadata": {},
   "outputs": [
    {
     "name": "stdout",
     "output_type": "stream",
     "text": [
      "162791\n"
     ]
    }
   ],
   "source": [
    "df.fillna(0)\n",
    "print(len(df))"
   ]
  },
  {
   "cell_type": "code",
   "execution_count": 39,
   "metadata": {},
   "outputs": [
    {
     "data": {
      "text/plain": [
       "array([[  0.00000000e+00,   2.31331799e+01,   2.10000000e+01, ...,\n",
       "          1.00000000e+00,   1.40000000e+01,   1.00000000e+01],\n",
       "       [  1.00000000e+00,   2.76000000e+01,   2.80000000e+01, ...,\n",
       "          1.00000000e+00,   1.00000000e+01,   1.80000000e+01],\n",
       "       [  2.00000000e+00,   2.16472887e+01,   2.10000000e+01, ...,\n",
       "          1.00000000e+00,   2.00000000e+01,   1.00000000e+00],\n",
       "       ..., \n",
       "       [  1.05800000e+03,   1.60000000e+01,   1.60000000e+01, ...,\n",
       "          8.57142857e-01,   6.00000000e+00,   9.00000000e+00],\n",
       "       [  1.05900000e+03,   1.60000000e+01,   1.60000000e+01, ...,\n",
       "          1.00000000e+00,   8.00000000e+00,   8.00000000e+00],\n",
       "       [  1.06000000e+03,   1.60000000e+01,   1.60000000e+01, ...,\n",
       "          5.55555556e-01,   5.00000000e+00,   7.00000000e+00]])"
      ]
     },
     "execution_count": 39,
     "metadata": {},
     "output_type": "execute_result"
    }
   ],
   "source": [
    "X = np.array(df)\n",
    "X"
   ]
  },
  {
   "cell_type": "code",
   "execution_count": 68,
   "metadata": {},
   "outputs": [
    {
     "name": "stdout",
     "output_type": "stream",
     "text": [
      "Train on 130232 samples, validate on 32559 samples\n",
      "Epoch 1/10\n",
      "130232/130232 [==============================] - 55s - loss: nan - acc: 0.7934 - val_loss: nan - val_acc: 0.8484\n",
      "Epoch 2/10\n",
      "130232/130232 [==============================] - 56s - loss: nan - acc: 0.7942 - val_loss: nan - val_acc: 0.8484\n",
      "Epoch 3/10\n",
      "130232/130232 [==============================] - 55s - loss: nan - acc: 0.7942 - val_loss: nan - val_acc: 0.8484\n"
     ]
    },
    {
     "data": {
      "text/plain": [
       "<keras.callbacks.History at 0x168530950>"
      ]
     },
     "execution_count": 68,
     "metadata": {},
     "output_type": "execute_result"
    }
   ],
   "source": [
    "from keras.optimizers import SGD\n",
    "from keras.layers import Dropout\n",
    "from keras.constraints import maxnorm\n",
    "\n",
    "model = Sequential()\n",
    "model.add(Dense(1000, activation='relu', input_shape=(X.shape[1],) ))\n",
    "model.add(Dense(1000, activation='relu', kernel_constraint=maxnorm(3)))\n",
    "model.add(Dropout(0.2))\n",
    "model.add(Dense(1000, activation='relu', kernel_constraint=maxnorm(3)))\n",
    "model.add(Dropout(0.2))\n",
    "model.add(Dense(500, activation='relu', kernel_constraint=maxnorm(3)))\n",
    "model.add(Dropout(0.2))\n",
    "model.add(Dense(1000, activation='relu', kernel_constraint=maxnorm(3)))\n",
    "model.add(Dropout(0.2))\n",
    "model.add(Dense(1000, activation='relu'))\n",
    "model.add(Dropout(0.2))\n",
    "\n",
    "model.add(Dense(2, activation='softmax'))\n",
    "\n",
    "model.compile(optimizer='adam', loss='categorical_crossentropy', metrics=['accuracy'])\n",
    "\n",
    "early_stopping_monitor = EarlyStopping(patience=2)\n",
    "\n",
    "model.fit(X, y, callbacks=[early_stopping_monitor], validation_split=0.2, batch_size=300)"
   ]
  },
  {
   "cell_type": "code",
   "execution_count": null,
   "metadata": {
    "collapsed": true
   },
   "outputs": [],
   "source": []
  },
  {
   "cell_type": "code",
   "execution_count": null,
   "metadata": {
    "collapsed": true
   },
   "outputs": [],
   "source": []
  }
 ],
 "metadata": {
  "kernelspec": {
   "display_name": "Python 3",
   "language": "python",
   "name": "python3"
  },
  "language_info": {
   "codemirror_mode": {
    "name": "ipython",
    "version": 3
   },
   "file_extension": ".py",
   "mimetype": "text/x-python",
   "name": "python",
   "nbconvert_exporter": "python",
   "pygments_lexer": "ipython3",
   "version": "3.6.3"
  }
 },
 "nbformat": 4,
 "nbformat_minor": 2
}
