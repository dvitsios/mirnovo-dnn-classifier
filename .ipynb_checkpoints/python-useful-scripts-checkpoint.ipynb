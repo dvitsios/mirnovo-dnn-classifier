{
 "cells": [
  {
   "cell_type": "markdown",
   "metadata": {},
   "source": [
    "### _ Get coordinates of adjacent cells of a 2D array element."
   ]
  },
  {
   "cell_type": "code",
   "execution_count": 1,
   "metadata": {},
   "outputs": [
    {
     "name": "stdout",
     "output_type": "stream",
     "text": [
      "[[1, 0], [1, 1], [0, 1]]\n",
      "[[1, 2], [1, 1], [2, 1]]\n",
      "[[0, 1], [0, 2], [0, 0], [2, 1], [2, 2], [2, 0], [1, 2], [1, 0]]\n"
     ]
    }
   ],
   "source": [
    "def get_adjacent_cells(i, j, arr):\n",
    "    \"\"\"Get coordinates of adjacent cells of element arr[i][j]\n",
    "    \n",
    "    Args:\n",
    "        i: element row-index\n",
    "        j: element column-index\n",
    "        arr: 2D list (containing data with boolean or int type).\n",
    "\n",
    "    Returns:\n",
    "        Return list with adjacent coordinates.\n",
    "    \"\"\"\n",
    "    \n",
    "    m = len(arr) - 1\n",
    "    n = len(arr[0]) - 1\n",
    "    \n",
    "    adj_cells = []\n",
    "\n",
    "    if i > 0:\n",
    "        adj_cells.append([i-1, j])\n",
    "        if j < n:\n",
    "            adj_cells.append([i-1, j+1])\n",
    "        if j > 0:\n",
    "            adj_cells.append([i-1, j-1])\n",
    "\n",
    "    if i < m:\n",
    "        adj_cells.append([i+1, j])\n",
    "        if j < n:\n",
    "            adj_cells.append([i+1, j+1])\n",
    "        if j > 0:\n",
    "            adj_cells.append([i+1, j-1])\n",
    "\n",
    "    if j < n:\n",
    "        adj_cells.append([i, j+1])\n",
    "\n",
    "    if j > 0:\n",
    "        adj_cells.append([i, j-1])\n",
    "        \n",
    "    return adj_cells\n",
    "\n",
    "    \n",
    "matrix = [[True, False, False],\n",
    "          [False, True, False],\n",
    "          [False, False, False]]\n",
    "\n",
    "adj_cells = get_adjacent_cells(0, 0, matrix)\n",
    "print(adj_cells)\n",
    "\n",
    "adj_cells = get_adjacent_cells(2, 2, matrix)\n",
    "print(adj_cells)\n",
    "\n",
    "adj_cells = get_adjacent_cells(1, 1, matrix)\n",
    "print(adj_cells)"
   ]
  },
  {
   "cell_type": "markdown",
   "metadata": {},
   "source": [
    "<br><br>"
   ]
  },
  {
   "cell_type": "markdown",
   "metadata": {},
   "source": [
    "### _ Create 2D python list with zeros"
   ]
  },
  {
   "cell_type": "code",
   "execution_count": 2,
   "metadata": {},
   "outputs": [
    {
     "name": "stdout",
     "output_type": "stream",
     "text": [
      "[[0, 0], [0, 0], [0, 0], [0, 0], [0, 0]]\n"
     ]
    }
   ],
   "source": [
    "def create_2d_zero_arr(m, n):\n",
    "    \"\"\"Create 2D python list with zeros\n",
    "    \n",
    "    Args:\n",
    "        m: num. of rows of output zero-matrix\n",
    "        n: num. of columns of output zero-matrix\n",
    "        \n",
    "    Returns:\n",
    "        Return 2D zero-matrix of dimensions `m x n`\n",
    "    \"\"\"\n",
    "    \n",
    "    mat = [ [0] * n for _ in range(m)]\n",
    "    # or equivalently: \n",
    "    # mat = [[0 for col in range(n)] for row in range(m)]\n",
    "    \n",
    "    \n",
    "    return mat\n",
    "\n",
    "print(create_2d_zero_arr(5, 2))\n",
    "\n",
    "# mat = [[0 for col in range(len(matrix[0]))] for row in range(len(matrix))]"
   ]
  }
 ],
 "metadata": {
  "kernelspec": {
   "display_name": "Python 3",
   "language": "python",
   "name": "python3"
  },
  "language_info": {
   "codemirror_mode": {
    "name": "ipython",
    "version": 3
   },
   "file_extension": ".py",
   "mimetype": "text/x-python",
   "name": "python",
   "nbconvert_exporter": "python",
   "pygments_lexer": "ipython3",
   "version": "3.6.3"
  }
 },
 "nbformat": 4,
 "nbformat_minor": 2
}
